{
 "cells": [
  {
   "cell_type": "code",
   "execution_count": 31,
   "metadata": {},
   "outputs": [],
   "source": [
    "import numpy as np\n",
    "import matplotlib.pyplot as plt\n",
    "import random \n",
    "import copy\n",
    "import pdb"
   ]
  },
  {
   "cell_type": "markdown",
   "metadata": {},
   "source": [
    "# TP3_info_Yichen_CAO"
   ]
  },
  {
   "cell_type": "markdown",
   "metadata": {},
   "source": [
    "## 1.1 Tri par sélection"
   ]
  },
  {
   "cell_type": "code",
   "execution_count": 4,
   "metadata": {},
   "outputs": [],
   "source": [
    "def tri_par_selection(x):\n",
    "    assert type(x) in {list}, 'doit être de type list'\n",
    "    for i in range(len(x)):\n",
    "        for j in range(i,len(x)):\n",
    "            if x[j]<x[i]:\n",
    "                x[j],x[i] = x[i],x[j]\n",
    "    return x"
   ]
  },
  {
   "cell_type": "code",
   "execution_count": 3,
   "metadata": {},
   "outputs": [],
   "source": [
    "x = [3,1,4,1,5,9,2,6]"
   ]
  },
  {
   "cell_type": "code",
   "execution_count": null,
   "metadata": {},
   "outputs": [],
   "source": [
    "tri_par_selection(x)"
   ]
  },
  {
   "cell_type": "markdown",
   "metadata": {},
   "source": [
    "## 1.2 tri dit à bulle"
   ]
  },
  {
   "cell_type": "code",
   "execution_count": 5,
   "metadata": {},
   "outputs": [],
   "source": [
    "def tri_dit_a_bulle(arr):\n",
    "    #assert type(arr) in {numpy.ndarray}, 'doit être de type array'\n",
    "    for i in range(1, len(arr)):\n",
    "        for j in range(0, len(arr)-i):\n",
    "            if arr[j] > arr[j+1]:\n",
    "                arr[j], arr[j + 1] = arr[j + 1], arr[j]\n",
    "    return arr"
   ]
  },
  {
   "cell_type": "code",
   "execution_count": 7,
   "metadata": {},
   "outputs": [
    {
     "data": {
      "text/plain": [
       "[1, 1, 2, 3, 4, 5, 6, 9]"
      ]
     },
     "execution_count": 7,
     "metadata": {},
     "output_type": "execute_result"
    }
   ],
   "source": [
    "tri_dit_a_bulle(x)"
   ]
  },
  {
   "cell_type": "markdown",
   "metadata": {},
   "source": [
    "## 1.3 tri rapide"
   ]
  },
  {
   "cell_type": "code",
   "execution_count": 2,
   "metadata": {},
   "outputs": [],
   "source": [
    "def tri_rapide(n):\n",
    "    less=[]\n",
    "    pivotList = []\n",
    "    greater = []\n",
    "    i = 0\n",
    "    if len(n)<=1:\n",
    "        return n\n",
    "    else:\n",
    "        pivot = len(n)//2\n",
    "        while i < len(n):\n",
    "            if i == pivot:\n",
    "                i+=1\n",
    "            elif n[i]<n[pivot]:\n",
    "                less.append(n[i])\n",
    "                i+=1\n",
    "            elif n[i]>=n[pivot]:\n",
    "                greater.append(n[i])\n",
    "                i+=1\n",
    "        pivotList.append(n[pivot])\n",
    "        return tri_rapide(less)+pivotList+tri_rapide(greater)"
   ]
  },
  {
   "cell_type": "code",
   "execution_count": 4,
   "metadata": {},
   "outputs": [
    {
     "data": {
      "text/plain": [
       "[1, 1, 2, 3, 4, 5, 6, 9]"
      ]
     },
     "execution_count": 4,
     "metadata": {},
     "output_type": "execute_result"
    }
   ],
   "source": [
    "tri_rapide(x)"
   ]
  },
  {
   "cell_type": "code",
   "execution_count": 21,
   "metadata": {},
   "outputs": [
    {
     "name": "stdout",
     "output_type": "stream",
     "text": [
      "[1, 5, 7, 8, 9, 10]\n"
     ]
    }
   ],
   "source": [
    "def partition(arr,low,high): \n",
    "    i =  low-1          # la position plus gauche\n",
    "    pivot = arr[high]     \n",
    "  \n",
    "    for j in range(low , high): \n",
    "  \n",
    "        # soit ce element indérieur que pivot \n",
    "        if   arr[j] <= pivot: \n",
    "          \n",
    "            i = i+1 \n",
    "            arr[i],arr[j] = arr[j],arr[i] \n",
    "  \n",
    "    arr[i+1],arr[high] = arr[high],arr[i+1] \n",
    "    return ( i+1 ) # renvoyer un pivot\n",
    "  \n",
    " \n",
    "# arr[] --> list\n",
    "# low  --> la position plus gauche\n",
    "# high  --> la position plus droite\n",
    "  \n",
    "# tri rapide\n",
    "def quickSort(arr,low,high): \n",
    "    if low < high: \n",
    "  \n",
    "        pi = partition(arr,low,high) \n",
    "  \n",
    "        quickSort(arr, low, pi-1) \n",
    "        quickSort(arr, pi+1, high) \n",
    "  \n",
    "arr = [10, 7, 8, 9, 1, 5] \n",
    "\n",
    "quickSort(arr,0,len(arr)-1) \n",
    "print (arr) \n",
    "\n"
   ]
  },
  {
   "cell_type": "code",
   "execution_count": null,
   "metadata": {},
   "outputs": [],
   "source": []
  },
  {
   "cell_type": "code",
   "execution_count": 5,
   "metadata": {},
   "outputs": [],
   "source": [
    "#2.1 Fibonacci"
   ]
  },
  {
   "cell_type": "code",
   "execution_count": 6,
   "metadata": {},
   "outputs": [],
   "source": [
    "def fibonacci(x):\n",
    "    assert type(x) in {int}, 'doit être de type int'\n",
    "    assert x>=0, 'doit être positive'\n",
    "    if x==0 or x==1:\n",
    "        return x\n",
    "    return fibonacci(x-1)+fibonacci(x-2)"
   ]
  },
  {
   "cell_type": "code",
   "execution_count": null,
   "metadata": {},
   "outputs": [],
   "source": [
    "# 3 Parenthésage"
   ]
  },
  {
   "cell_type": "code",
   "execution_count": 13,
   "metadata": {},
   "outputs": [],
   "source": [
    "def parenthesage(x):\n",
    "    assert type(x) in {str}, 'doit être de type str'\n",
    "    pile=[]\n",
    "    for i in x:\n",
    "        if i =='(':\n",
    "            pile.append(i)\n",
    "        elif i ==')':\n",
    "            if pile :\n",
    "                pile.pop()\n",
    "            else:\n",
    "                return False\n",
    "    if pile:\n",
    "        return False\n",
    "    else:\n",
    "        return True"
   ]
  },
  {
   "cell_type": "code",
   "execution_count": 16,
   "metadata": {},
   "outputs": [
    {
     "name": "stdout",
     "output_type": "stream",
     "text": [
      "12\n"
     ]
    }
   ],
   "source": [
    "x = '123456()()()'\n",
    "print(len(x))\n"
   ]
  },
  {
   "cell_type": "code",
   "execution_count": 17,
   "metadata": {},
   "outputs": [
    {
     "data": {
      "text/plain": [
       "True"
      ]
     },
     "execution_count": 17,
     "metadata": {},
     "output_type": "execute_result"
    }
   ],
   "source": [
    "parenthesage(x)"
   ]
  },
  {
   "cell_type": "markdown",
   "metadata": {},
   "source": [
    "# 4 écriture postfixée"
   ]
  },
  {
   "cell_type": "code",
   "execution_count": 1,
   "metadata": {},
   "outputs": [],
   "source": [
    "def is_operation(x):\n",
    "    assert type(x) in {str}, 'doit être de type str'\n",
    "    op=[]\n",
    "    for i in x:\n",
    "        if i =='*' or i =='+' or i =='-' or i == '/':\n",
    "            return True\n",
    "    return False\n",
    "        \n",
    "def exec_operation(a,b,op):\n",
    "    if op == '+':\n",
    "        return a+b\n",
    "    elif op =='-':\n",
    "        return a-b\n",
    "    elif op == '*':\n",
    "        return a*b\n",
    "    elif op =='/':\n",
    "        return a/b\n",
    "    else :\n",
    "        False"
   ]
  },
  {
   "cell_type": "code",
   "execution_count": null,
   "metadata": {},
   "outputs": [
    {
     "data": {
      "text/plain": [
       "3"
      ]
     },
     "execution_count": 2,
     "metadata": {},
     "output_type": "execute_result"
    }
   ],
   "source": [
    "exec_operation(1,2,'+')"
   ]
  },
  {
   "cell_type": "code",
   "execution_count": 11,
   "metadata": {},
   "outputs": [
    {
     "data": {
      "text/plain": [
       "['-', '*', '+']"
      ]
     },
     "execution_count": 11,
     "metadata": {},
     "output_type": "execute_result"
    }
   ],
   "source": [
    "is_operation('432-*6+')"
   ]
  },
  {
   "cell_type": "code",
   "execution_count": 9,
   "metadata": {},
   "outputs": [],
   "source": [
    "def postfix(E):# Vérifier le postfix est correct ou pas.\n",
    "    assert type(E) in {str}, 'doit être de type str'\n",
    "    pile=[]\n",
    "    for i in E:\n",
    "        if not is_operation(i):\n",
    "            pile.append(i)\n",
    "        else:\n",
    "            if pile :\n",
    "                pile.pop()\n",
    "            else:\n",
    "                return False\n",
    "    if len(pile) == 1:\n",
    "        return True\n",
    "    else:\n",
    "        return False"
   ]
  },
  {
   "cell_type": "code",
   "execution_count": 10,
   "metadata": {},
   "outputs": [
    {
     "data": {
      "text/plain": [
       "True"
      ]
     },
     "execution_count": 10,
     "metadata": {},
     "output_type": "execute_result"
    }
   ],
   "source": [
    "postfix('432-*6+')"
   ]
  },
  {
   "cell_type": "code",
   "execution_count": 13,
   "metadata": {},
   "outputs": [],
   "source": [
    "def evaluepf(E):# chaque valeur entre 0 à 9\n",
    "    op = []\n",
    "    entiers=[]\n",
    "    k = 0\n",
    "    if postfix(E):\n",
    "        for i in E:\n",
    "            if not is_operation(i):\n",
    "                entiers.append(int(i))\n",
    "            else:\n",
    "                op.append(i)\n",
    "                k = exec_operation(entiers[-2],entiers[-1],op[0])\n",
    "                entiers.pop()\n",
    "                op.pop(0)\n",
    "                entiers[-1] = k\n",
    "            #print(entiers)\n",
    "        return entiers\n",
    "    else:\n",
    "        return \"le postfixe nest pas correct\"\n",
    "            \n",
    "            "
   ]
  },
  {
   "cell_type": "code",
   "execution_count": 14,
   "metadata": {},
   "outputs": [
    {
     "data": {
      "text/plain": [
       "[10]"
      ]
     },
     "execution_count": 14,
     "metadata": {},
     "output_type": "execute_result"
    }
   ],
   "source": [
    "evaluepf('432-*6+')"
   ]
  },
  {
   "cell_type": "code",
   "execution_count": 15,
   "metadata": {},
   "outputs": [
    {
     "data": {
      "text/plain": [
       "1"
      ]
     },
     "execution_count": 15,
     "metadata": {},
     "output_type": "execute_result"
    }
   ],
   "source": []
  },
  {
   "cell_type": "code",
   "execution_count": 24,
   "metadata": {},
   "outputs": [],
   "source": [
    "def f(n):\n",
    "    pile=[]\n",
    "    if n==1:\n",
    "        return max\n",
    "    elif n%2==0:\n",
    "        print(n/2)\n",
    "        return f(n/2)\n",
    "    else:\n",
    "        \n",
    "        print(3*n+1)\n",
    "        return f(3*n+1)\n",
    "    "
   ]
  },
  {
   "cell_type": "code",
   "execution_count": 66,
   "metadata": {},
   "outputs": [],
   "source": [
    "def maxsyracuse(n):\n",
    "    Max = [1]\n",
    "    Max.append(n)\n",
    "    while n != 1:\n",
    "        if n%2==0:\n",
    "            n = n/2\n",
    "            Max.append(n)\n",
    "        else:\n",
    "            n = 3*n+1\n",
    "            Max.append(n)\n",
    "                \n",
    "            \n",
    "    return max(Max)   "
   ]
  },
  {
   "cell_type": "code",
   "execution_count": 88,
   "metadata": {},
   "outputs": [
    {
     "data": {
      "text/plain": [
       "223072.0"
      ]
     },
     "execution_count": 88,
     "metadata": {},
     "output_type": "execute_result"
    }
   ],
   "source": [
    "maxsyracuse(4583)"
   ]
  },
  {
   "cell_type": "code",
   "execution_count": 52,
   "metadata": {},
   "outputs": [],
   "source": [
    "def y(x):\n",
    "    y = []\n",
    "    for i in range(len(x)):\n",
    "        y.append(maxsyracuse(x[i]))\n",
    "    return y"
   ]
  },
  {
   "cell_type": "code",
   "execution_count": null,
   "metadata": {},
   "outputs": [],
   "source": []
  },
  {
   "cell_type": "code",
   "execution_count": 73,
   "metadata": {},
   "outputs": [],
   "source": [
    "def nombre_premier(x):\n",
    "    for i in range(2,x):\n",
    "        if x%i == 0:\n",
    "            print(x,'nest pas premier')\n",
    "            print(i,'*',x//i,'=',x)\n",
    "            return False\n",
    "    else:\n",
    "        print(x,'est premier')\n",
    "        return True"
   ]
  },
  {
   "cell_type": "code",
   "execution_count": 86,
   "metadata": {},
   "outputs": [
    {
     "name": "stdout",
     "output_type": "stream",
     "text": [
      "4591 est premier\n"
     ]
    }
   ],
   "source": [
    "nombre_premier(4591)"
   ]
  },
  {
   "cell_type": "code",
   "execution_count": 2,
   "metadata": {},
   "outputs": [
    {
     "name": "stdout",
     "output_type": "stream",
     "text": [
      "2\n",
      "3\n",
      "4\n",
      "5\n",
      "6\n",
      "7\n",
      "8\n",
      "9\n"
     ]
    }
   ],
   "source": [
    "for i in range(2,10):\n",
    "    print(i)"
   ]
  },
  {
   "cell_type": "code",
   "execution_count": 14,
   "metadata": {},
   "outputs": [],
   "source": [
    "def testperm(l):\n",
    "    pile = [1]\n",
    "    i = 0\n",
    "    j = 2\n",
    "    while i<len(l):\n",
    "        while pile[-1] < l[i] :\n",
    "            pile.append(j)\n",
    "            j+=1\n",
    "            print(pile)\n",
    "        if pile[-1] == l[i]:\n",
    "            pile.pop()\n",
    "            i+=1\n",
    "        else :\n",
    "            return False\n",
    "    return True        \n",
    "            "
   ]
  },
  {
   "cell_type": "code",
   "execution_count": 17,
   "metadata": {},
   "outputs": [
    {
     "name": "stdout",
     "output_type": "stream",
     "text": [
      "[1, 2]\n",
      "[1, 3]\n"
     ]
    },
    {
     "data": {
      "text/plain": [
       "True"
      ]
     },
     "execution_count": 17,
     "metadata": {},
     "output_type": "execute_result"
    }
   ],
   "source": [
    "lc = [3,5,7,6,8,4,9,2,10,1]\n",
    "lf = [4,6,5,3,8,7,1,9,10,2]\n",
    "testperm([2,3,1])"
   ]
  },
  {
   "cell_type": "code",
   "execution_count": 1,
   "metadata": {},
   "outputs": [],
   "source": [
    "def matrice(mat1,mat2):\n",
    "\n",
    "    n = len(mat1)\n",
    "\n",
    "    res = [[0 for i in range(n)] for j in range(n)]\n",
    "\n",
    "    for i in range(n):\n",
    "\n",
    "        for j in range(n):\n",
    "\n",
    "            for k in range(n):\n",
    "\n",
    "                res[i][j] += mat1[i][k] * mat2[k][j]\n",
    "\n",
    "    print(res)"
   ]
  },
  {
   "cell_type": "code",
   "execution_count": 5,
   "metadata": {},
   "outputs": [
    {
     "name": "stdout",
     "output_type": "stream",
     "text": [
      "[[8, 18], [18, 46]]\n"
     ]
    }
   ],
   "source": [
    "mat1 = [[1,3],[2,8]]\n",
    "\n",
    "mat2 = [[5,3],[1,5]]\n",
    "\n",
    "matrice(mat1,mat2)"
   ]
  },
  {
   "cell_type": "code",
   "execution_count": 3,
   "metadata": {},
   "outputs": [
    {
     "name": "stdout",
     "output_type": "stream",
     "text": [
      "[[0, 0], [0, 0]]\n"
     ]
    }
   ],
   "source": [
    "res = [[0 for i in range(2)] for j in range(2)]\n",
    "print(res)"
   ]
  },
  {
   "cell_type": "code",
   "execution_count": null,
   "metadata": {},
   "outputs": [],
   "source": []
  }
 ],
 "metadata": {
  "kernelspec": {
   "display_name": "Python 3",
   "language": "python",
   "name": "python3"
  },
  "language_info": {
   "codemirror_mode": {
    "name": "ipython",
    "version": 3
   },
   "file_extension": ".py",
   "mimetype": "text/x-python",
   "name": "python",
   "nbconvert_exporter": "python",
   "pygments_lexer": "ipython3",
   "version": "3.8.6"
  }
 },
 "nbformat": 4,
 "nbformat_minor": 4
}

{
 "cells": [
  {
   "cell_type": "markdown",
   "metadata": {},
   "source": [
    "# TP2_info_Yichen_CAO"
   ]
  },
  {
   "cell_type": "code",
   "execution_count": 4,
   "metadata": {},
   "outputs": [],
   "source": [
    "import numpy as np\n",
    "import matplotlib.pyplot as plt\n",
    "import random \n",
    "import copy\n",
    "import pdb"
   ]
  },
  {
   "cell_type": "markdown",
   "metadata": {},
   "source": [
    "## jeu de morpion en trois cases par trois cases"
   ]
  },
  {
   "cell_type": "code",
   "execution_count": 5,
   "metadata": {},
   "outputs": [],
   "source": [
    "class Morpion:\n",
    "    'un joueur de Morpion'\n",
    "    humain = 1\n",
    "    ordinateur = -1\n",
    "    etapeCount = 0\n",
    "    def __init__(self,firstPlayer):\n",
    "        'definie un plareau et first player'\n",
    "        self.plateau = [[0,0,0],[0,0,0],[0,0,0]]\n",
    "        self.firstPlayer = firstPlayer\n",
    "        print(self.firstPlayer)\n",
    "        \n",
    "    def afficherplateau(self):\n",
    "        'pour afficher le plateau'\n",
    "        self.AfPt = []\n",
    "## Dupliquer le list sinon ça changera le plateau.\n",
    "        self.AfPt.extend(copy.deepcopy(self.plateau))\n",
    "        #print(self.plateau)\n",
    "        #print(self.AfPt)\n",
    "        for i in range(3):\n",
    "            for j in range(3):\n",
    "                if self.AfPt[i][j] == 0:\n",
    "                    self.AfPt[i][j] = \" \"\n",
    "                elif self.AfPt[i][j] == 1:\n",
    "                    self.AfPt[i][j] = 'X'\n",
    "                elif self.AfPt[i][j] == -1:\n",
    "                    self.AfPt[i][j] = 'O'\n",
    "##Affichier le list avec un entre apès chaque element.\n",
    "        print(*self.AfPt,sep=\"\\n\")\n",
    "        return self.plateau\n",
    "    \n",
    "    def joueurHumain(self,x,y):\n",
    "        'humain player'\n",
    "        if x >=4 or y >=4:\n",
    "## stupid humain gamer makes mistake always.\n",
    "            print('cette case n\\'est pas dans le plateau.')\n",
    "            return False\n",
    "        elif self.plateau[x-1][y-1] == 0:\n",
    "            self.plateau[x-1][y-1] = int(1)\n",
    "            return self.plateau\n",
    "        else:\n",
    "## stupid humain gamer makes mistake always.\n",
    "            print('cette case n\\'est pas vide.')\n",
    "            return False\n",
    "        \n",
    "    def trouverCaseVide(self):\n",
    "        'chercher de case vide'\n",
    "        self.caseVide = []\n",
    "        for i in range(3):\n",
    "            for j in range(3):\n",
    "                if self.plateau[i][j] == 0:\n",
    "                    self.caseVide.append([i,j])\n",
    "        return self.caseVide\n",
    "    \n",
    "    def joueuraleatoire(self):\n",
    "        'ordinateur player'\n",
    "## Ordinateur ne met que dans la case vide.\n",
    "        Morpion.trouverCaseVide(self)\n",
    "        self.p = random.randint(0,len(self.caseVide)-1) #trouver une position aleatoire\n",
    "        self.plateau[self.caseVide[self.p][0]][self.caseVide[self.p][1]]=-1\n",
    "        return self.plateau\n",
    "        \n",
    "    def checkgagnant(self):\n",
    "        'verifier qui est gagne'\n",
    "## Si il y a un gagnant renvoie False,sinon True\n",
    "        Morpion.trouverCaseVide(self)\n",
    "        self.somme_ligne = 0\n",
    "        self.somme_colonne = 0\n",
    "        self.somme_oblique = 0\n",
    "        self.somme_antiOblique = 0\n",
    "        self.gagne = 0\n",
    "## Quand il y a case vide        \n",
    "        if self.caseVide:\n",
    "            for i in range(3):\n",
    "                for j in range(3):\n",
    "                    self.somme_ligne += self.plateau[i][j]\n",
    "                    self.somme_colonne += self.plateau[j][i]\n",
    "                    if self.somme_ligne == 3 or self.somme_colonne == 3:\n",
    "                        print('humain')\n",
    "                        self.gagne = 1\n",
    "                        return False\n",
    "                        \n",
    "                    elif self.somme_ligne == -3 or self.somme_colonne == -3:\n",
    "                        print('ordinateur')\n",
    "                        self.gagne = -1\n",
    "                        return False\n",
    "## faire le variable verifier est 0\n",
    "                self.somme_ligne =0\n",
    "                self.somme_colonne =0    \n",
    "                self.somme_oblique += self.plateau[i][i]\n",
    "                self.somme_antiOblique += self.plateau[i][-i-1]\n",
    "                if self.somme_oblique == 3 or self.somme_antiOblique == 3:\n",
    "                    print('humain')\n",
    "                    self.gagne = 1\n",
    "                    return False\n",
    "                \n",
    "                elif self.somme_oblique == -3 or self.somme_antiOblique == -3:\n",
    "                    print('ordinateur')\n",
    "                    self.gagne = -1\n",
    "                    return False\n",
    "            \n",
    "            print('continuez')\n",
    "            return False\n",
    "## Q uand il y plus de case vide        \n",
    "        else:\n",
    "            for i in range(3):\n",
    "                for j in range(3):\n",
    "                    self.somme_ligne += self.plateau[i][j]\n",
    "                    self.somme_colonne += self.plateau[j][i]\n",
    "                    if self.somme_ligne == 3 or self.somme_colonne == 3:\n",
    "                        print('humain')\n",
    "                        self.gagne = 1\n",
    "                        return False\n",
    "                    elif self.somme_ligne == -3 or self.somme_colonne == -3:\n",
    "                        print('ordinateur')\n",
    "                        self.gagne = -1\n",
    "                        return False\n",
    "## faire le variable verifier est 0\n",
    "                self.somme_ligne =0\n",
    "                self.somme_colonne =0\n",
    "                self.somme_oblique += self.plateau[i][i]\n",
    "                self.somme_antiOblique += self.plateau[i][-i-1]\n",
    "                if self.somme_oblique == 3 or self.somme_antiOblique == 3:\n",
    "                    print('humain')\n",
    "                    self.gagne = 1\n",
    "                    return False\n",
    "                elif self.somme_oblique == -3 or self.somme_antiOblique == -3:\n",
    "                    print('ordinateur')\n",
    "                    self.gagne = -1\n",
    "                    return False\n",
    "            print('None')\n",
    "            return True\n",
    "        \n",
    "    def checkNull(self):\n",
    "        if Morpion.checkgagnant == True:\n",
    "            return True\n",
    "        else :\n",
    "            return False\n",
    "            \n",
    "    def gameover(self):\n",
    "        Morpion.checkgagnant(self)\n",
    "        if Morpion.checkNull == True:\n",
    "            return 'la partie est nulle'\n",
    "        elif self.gagne ==1 :\n",
    "            return 'un gagnant : humain'\n",
    "        elif self.gagne ==-1 :\n",
    "            return 'un gagnant : ordinateur'\n",
    "        else:\n",
    "            return False\n",
    "                    \n",
    "    def play(self):\n",
    "        Morpion.afficherplateau(self)\n",
    "        print(self.firstPlayer)\n",
    "        if self.firstPlayer == 1:\n",
    "            Morpion.trouverCaseVide(self)\n",
    "            while Morpion.gameover(self) == False:\n",
    "                if Morpion.etapeCount%2:#ici soit il y a rest ,est True. Sinon, est False\n",
    "                    Morpion.joueuraleatoire(self)\n",
    "                    Morpion.afficherplateau(self)\n",
    "                    Morpion.etapeCount+=1\n",
    "                else: \n",
    "                    print('your turn, humain')\n",
    "                    self.l,self.c=(input('ligne et colonne, separe par espace').split())\n",
    "                    self.l=int(self.l)\n",
    "                    self.c=int(self.c)\n",
    "                    self.ph = list()\n",
    "                    self.ph.append([self.l,self.c])\n",
    "                    if Morpion.joueurHumain(self,self.ph[0][0],self.ph[0][1]):\n",
    "                        Morpion.etapeCount+=1\n",
    "                        Morpion.afficherplateau(self)\n",
    "            return Morpion.gameover(self)\n",
    "        \n",
    "        elif self.firstPlayer == -1:\n",
    "            while Morpion.gameover(self) == False:\n",
    "                if Morpion.etapeCount%2:\n",
    "                    print('your turn, humain')\n",
    "                    self.l,self.c=(input('ligne et colonne, separe par espace').split())\n",
    "                    self.l=int(self.l)\n",
    "                    self.c=int(self.c)\n",
    "                    self.ph = list()\n",
    "                    self.ph.append([self.l,self.c])\n",
    "                    if Morpion.joueurHumain(self,self.ph[0][0],self.ph[0][1]):\n",
    "                        Morpion.afficherplateau(self)\n",
    "                        Morpion.etapeCount+=1    \n",
    "                else: \n",
    "                    Morpion.joueuraleatoire(self)\n",
    "                    Morpion.afficherplateau(self)\n",
    "                    Morpion.etapeCount+=1\n",
    "            return Morpion.gameover(self)\n",
    "                    \n",
    "## La partie pour tester    \n",
    "    def test(self):\n",
    "        while Morpion.gameover(self) == False:\n",
    "            if Morpion.etapeCount%2:\n",
    "                Morpion.joueuraleatoire(self)\n",
    "                Morpion.afficherplateau(self)\n",
    "                Morpion.etapeCount+=1\n",
    "                    \n",
    "            else: \n",
    "                print('your turn, humain')\n",
    "                self.l,self.c=(input('ligne et colonne').split())\n",
    "                self.l=int(self.l)\n",
    "                self.c=int(self.c)\n",
    "                self.ph = list()\n",
    "                self.ph.append([self.l,self.c])\n",
    "                Morpion.joueurHumain(self,self.ph[0][0],self.ph[0][1])\n",
    "                Morpion.afficherplateau(self)\n",
    "                Morpion.etapeCount+=1\n",
    "        return Morpion.gameover(self)\n",
    "        "
   ]
  },
  {
   "cell_type": "code",
   "execution_count": 6,
   "metadata": {},
   "outputs": [
    {
     "name": "stdout",
     "output_type": "stream",
     "text": [
      "1\n"
     ]
    }
   ],
   "source": [
    "test = Morpion(1)"
   ]
  },
  {
   "cell_type": "code",
   "execution_count": 7,
   "metadata": {},
   "outputs": [
    {
     "name": "stdout",
     "output_type": "stream",
     "text": [
      "[' ', ' ', ' ']\n",
      "[' ', ' ', ' ']\n",
      "[' ', ' ', ' ']\n",
      "1\n",
      "continuez\n",
      "your turn, humain\n"
     ]
    },
    {
     "name": "stdin",
     "output_type": "stream",
     "text": [
      "ligne et colonne, separe par espace 2 2\n"
     ]
    },
    {
     "name": "stdout",
     "output_type": "stream",
     "text": [
      "[' ', ' ', ' ']\n",
      "[' ', 'X', ' ']\n",
      "[' ', ' ', ' ']\n",
      "continuez\n",
      "[' ', ' ', 'O']\n",
      "[' ', 'X', ' ']\n",
      "[' ', ' ', ' ']\n",
      "continuez\n",
      "your turn, humain\n"
     ]
    },
    {
     "name": "stdin",
     "output_type": "stream",
     "text": [
      "ligne et colonne, separe par espace 1 3\n"
     ]
    },
    {
     "name": "stdout",
     "output_type": "stream",
     "text": [
      "cette case n'est pas vide.\n",
      "continuez\n",
      "your turn, humain\n"
     ]
    },
    {
     "name": "stdin",
     "output_type": "stream",
     "text": [
      "ligne et colonne, separe par espace 3 1\n"
     ]
    },
    {
     "name": "stdout",
     "output_type": "stream",
     "text": [
      "[' ', ' ', 'O']\n",
      "[' ', 'X', ' ']\n",
      "['X', ' ', ' ']\n",
      "continuez\n",
      "[' ', 'O', 'O']\n",
      "[' ', 'X', ' ']\n",
      "['X', ' ', ' ']\n",
      "continuez\n",
      "your turn, humain\n"
     ]
    },
    {
     "name": "stdin",
     "output_type": "stream",
     "text": [
      "ligne et colonne, separe par espace 1 1\n"
     ]
    },
    {
     "name": "stdout",
     "output_type": "stream",
     "text": [
      "['X', 'O', 'O']\n",
      "[' ', 'X', ' ']\n",
      "['X', ' ', ' ']\n",
      "continuez\n",
      "['X', 'O', 'O']\n",
      "[' ', 'X', 'O']\n",
      "['X', ' ', ' ']\n",
      "continuez\n",
      "your turn, humain\n"
     ]
    },
    {
     "name": "stdin",
     "output_type": "stream",
     "text": [
      "ligne et colonne, separe par espace 3 3\n"
     ]
    },
    {
     "name": "stdout",
     "output_type": "stream",
     "text": [
      "['X', 'O', 'O']\n",
      "[' ', 'X', 'O']\n",
      "['X', ' ', 'X']\n",
      "humain\n",
      "humain\n"
     ]
    },
    {
     "data": {
      "text/plain": [
       "'un gagnant : humain'"
      ]
     },
     "execution_count": 7,
     "metadata": {},
     "output_type": "execute_result"
    }
   ],
   "source": [
    "test.play()"
   ]
  },
  {
   "cell_type": "code",
   "execution_count": 5,
   "metadata": {},
   "outputs": [
    {
     "name": "stdout",
     "output_type": "stream",
     "text": [
      "humain\n"
     ]
    },
    {
     "data": {
      "text/plain": [
       "False"
      ]
     },
     "execution_count": 5,
     "metadata": {},
     "output_type": "execute_result"
    }
   ],
   "source": [
    "test.checkgagnant()"
   ]
  },
  {
   "cell_type": "code",
   "execution_count": 6,
   "metadata": {},
   "outputs": [
    {
     "ename": "NameError",
     "evalue": "name 'p' is not defined",
     "output_type": "error",
     "traceback": [
      "\u001b[0;31m---------------------------------------------------------------------------\u001b[0m",
      "\u001b[0;31mNameError\u001b[0m                                 Traceback (most recent call last)",
      "\u001b[0;32m<ipython-input-6-7123e0605d4f>\u001b[0m in \u001b[0;36m<module>\u001b[0;34m\u001b[0m\n\u001b[0;32m----> 1\u001b[0;31m \u001b[0mtype\u001b[0m\u001b[0;34m(\u001b[0m\u001b[0mp\u001b[0m\u001b[0;34m)\u001b[0m\u001b[0;34m\u001b[0m\u001b[0;34m\u001b[0m\u001b[0m\n\u001b[0m",
      "\u001b[0;31mNameError\u001b[0m: name 'p' is not defined"
     ]
    }
   ],
   "source": [
    "type(p)"
   ]
  },
  {
   "cell_type": "code",
   "execution_count": null,
   "metadata": {},
   "outputs": [],
   "source": [
    "test.afficherplateau()"
   ]
  },
  {
   "cell_type": "code",
   "execution_count": null,
   "metadata": {},
   "outputs": [],
   "source": [
    "test.trouverCaseVide()"
   ]
  },
  {
   "cell_type": "code",
   "execution_count": null,
   "metadata": {},
   "outputs": [],
   "source": [
    "test.checkgagnant()"
   ]
  },
  {
   "cell_type": "code",
   "execution_count": null,
   "metadata": {},
   "outputs": [],
   "source": [
    "test.checkNull()"
   ]
  },
  {
   "cell_type": "code",
   "execution_count": null,
   "metadata": {},
   "outputs": [],
   "source": [
    "test.gameover()"
   ]
  },
  {
   "cell_type": "code",
   "execution_count": null,
   "metadata": {},
   "outputs": [],
   "source": [
    "test.play()"
   ]
  },
  {
   "cell_type": "code",
   "execution_count": null,
   "metadata": {},
   "outputs": [],
   "source": [
    "test.etapeCount"
   ]
  },
  {
   "cell_type": "code",
   "execution_count": 12,
   "metadata": {},
   "outputs": [
    {
     "data": {
      "text/plain": [
       "1"
      ]
     },
     "execution_count": 12,
     "metadata": {},
     "output_type": "execute_result"
    }
   ],
   "source": [
    "1%2"
   ]
  },
  {
   "cell_type": "code",
   "execution_count": null,
   "metadata": {},
   "outputs": [],
   "source": []
  }
 ],
 "metadata": {
  "kernelspec": {
   "display_name": "Python 3",
   "language": "python",
   "name": "python3"
  },
  "language_info": {
   "codemirror_mode": {
    "name": "ipython",
    "version": 3
   },
   "file_extension": ".py",
   "mimetype": "text/x-python",
   "name": "python",
   "nbconvert_exporter": "python",
   "pygments_lexer": "ipython3",
   "version": "3.8.6"
  }
 },
 "nbformat": 4,
 "nbformat_minor": 4
}

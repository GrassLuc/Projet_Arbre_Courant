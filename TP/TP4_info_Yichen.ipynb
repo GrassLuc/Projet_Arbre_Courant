{
 "cells": [
  {
   "cell_type": "code",
   "execution_count": 1,
   "metadata": {},
   "outputs": [],
   "source": [
    "import numpy as np\n",
    "import matplotlib.pyplot as plt\n",
    "import random \n",
    "import copy\n",
    "import pdb"
   ]
  },
  {
   "cell_type": "markdown",
   "metadata": {},
   "source": [
    "# TP4_info_Yichen_CAO"
   ]
  },
  {
   "cell_type": "code",
   "execution_count": 46,
   "metadata": {},
   "outputs": [],
   "source": [
    "class Arbre:\n",
    "    def __init__(self, val):\n",
    "        self.gauche = None\n",
    "        self.droite = None\n",
    "        self.data = val\n",
    "        \n",
    "    def hauteur(self):\n",
    "        #soit l'arbre est null la hauteur est 0;soit il y n'a que une racine la hauteur est 1\n",
    "        if self.data == None:\n",
    "            return 0\n",
    "        elif self.gauche == None and self.droite == None:\n",
    "            return 1\n",
    "        elif self.gauche == None and self.droite != None:\n",
    "            return 1+self.droite.hauteur()\n",
    "        elif self.gauche != None and self.droite == None:\n",
    "            return 1+self.gauche.hauteur()\n",
    "        else:\n",
    "            return 1+max(self.gauche.hauteur(),self.droite.hauteur())\n",
    "        \n",
    "    def distance_racine(self,d):\n",
    "        \n",
    "        if d>self.hauteur() or d<0:\n",
    "            return 0\n",
    "        if d == 0:\n",
    "            return 1\n",
    "        elif d>0:\n",
    "            return self.gauche.distance_racine(d-1)+self.droite.distance_racine(d-1)\n",
    "        \n",
    "    def largeur(self):\n",
    "        k = 0\n",
    "        for d in range(0,self.hauteur()):\n",
    "            if self.distance_racine(d)>k:\n",
    "                k = self.distance_racine(d)\n",
    "        return k\n",
    "     \n",
    "        \n",
    "    def PrintInfixeTree(self):#infixe sous-arbre gauche;racine;infixe sous-arbre droit\n",
    "        \n",
    "        if self.gauche != None:\n",
    "            print('(',end='')\n",
    "            self.gauche.PrintInfixeTree()\n",
    "        #if self.data != None:\n",
    "        print(self.data,end='')\n",
    "        if self.droite !=None:\n",
    "            self.droite.PrintInfixeTree()\n",
    "            print(')',end='')\n",
    "        \n",
    "\n",
    "    def PrintPrefixeTree(self):#racine;préfixe au sous-arbre gauche; préfixe au sous-arbre droit\n",
    "        if self.data != None:\n",
    "            if self.gauche != None:\n",
    "                print('(',end='')\n",
    "            print(self.data,end='')\n",
    "        if self.gauche != None:\n",
    "            self.gauche.PrintPrefixeTree()\n",
    "        if self.droite !=None:\n",
    "            self.droite.PrintPrefixeTree()   \n",
    "            print(')',end='')\n",
    "        \n",
    "    def PrintPostfixeTree(self):#postfixe au sous-arbre gauche; postfixe au sous-arbre droit; racine\n",
    "        if self.gauche != None:\n",
    "            print('(',end='')\n",
    "            self.gauche.PrintPostfixeTree()\n",
    "        if self.droite !=None:\n",
    "            self.droite.PrintPostfixeTree()\n",
    "        if self.data != None:\n",
    "            print(self.data,end='')\n",
    "            if self.droite !=None:\n",
    "                print(')',end='')\n",
    "            \n",
    "    def PrintFeuille(self):\n",
    "        if self.data == None:\n",
    "            return None\n",
    "        elif self.gauche == None and self.droite == None:\n",
    "            print(self.data,end='')\n",
    "        elif self.gauche != None and self.droite == None:\n",
    "            self.gauche.PrintFeuille()\n",
    "        elif self.gauche == None and self.droite != None:\n",
    "            self.droite.PrintFeuille()\n",
    "        else:\n",
    "            self.gauche.PrintFeuille()\n",
    "            self.droite.PrintFeuille()\n",
    "            \n",
    "            \n",
    "    def  estComplet(self):\n",
    "        if self.data == None:\n",
    "            return True\n",
    "        elif self.gauche == None and self.droite == None:\n",
    "            return True\n",
    "        elif self.gauche != None and self.droite == None:\n",
    "            return False\n",
    "        elif self.gauche == None and self.droite != None:\n",
    "            return False\n",
    "        elif self.gauche.estComplet()==True and self.droite.estComplet()==True:\n",
    "            return True\n",
    "        else:\n",
    "            return False\n",
    "        \n",
    "    def miroir(self,Arbres):\n",
    "        if Arbres == None:\n",
    "            return Arbres\n",
    "        \n",
    "        gauche = self.miroir(Arbres.gauche)\n",
    "        droite = self.miroir(Arbres.droite)\n",
    "        Arbres.gauche, Arbres.droite = droite, gauche\n",
    "        return Arbres\n",
    "            "
   ]
  },
  {
   "cell_type": "code",
   "execution_count": 49,
   "metadata": {},
   "outputs": [],
   "source": [
    "racine = Arbre('+')\n",
    "racine.gauche = Arbre('-')\n",
    "racine.gauche.gauche = Arbre('7')\n",
    "racine.gauche.droite = Arbre('3')\n",
    "racine.droite = Arbre('*')\n",
    "racine.droite.gauche = Arbre('2')\n",
    "racine.droite.droite = Arbre('11')"
   ]
  },
  {
   "cell_type": "code",
   "execution_count": 30,
   "metadata": {},
   "outputs": [
    {
     "data": {
      "text/plain": [
       "3"
      ]
     },
     "execution_count": 30,
     "metadata": {},
     "output_type": "execute_result"
    }
   ],
   "source": [
    "racine.hauteur()"
   ]
  },
  {
   "cell_type": "code",
   "execution_count": 31,
   "metadata": {},
   "outputs": [
    {
     "data": {
      "text/plain": [
       "1"
      ]
     },
     "execution_count": 31,
     "metadata": {},
     "output_type": "execute_result"
    }
   ],
   "source": [
    "racine.distance_racine(0)"
   ]
  },
  {
   "cell_type": "code",
   "execution_count": 32,
   "metadata": {},
   "outputs": [
    {
     "data": {
      "text/plain": [
       "4"
      ]
     },
     "execution_count": 32,
     "metadata": {},
     "output_type": "execute_result"
    }
   ],
   "source": [
    "racine.largeur()"
   ]
  },
  {
   "cell_type": "markdown",
   "metadata": {},
   "source": [
    "## Ex2 parcourir un arbre et traitement des données"
   ]
  },
  {
   "cell_type": "code",
   "execution_count": 54,
   "metadata": {},
   "outputs": [
    {
     "name": "stdout",
     "output_type": "stream",
     "text": [
      "((7-3)+(2*11))"
     ]
    }
   ],
   "source": [
    "racine.PrintInfixeTree()"
   ]
  },
  {
   "cell_type": "code",
   "execution_count": 39,
   "metadata": {},
   "outputs": [
    {
     "name": "stdout",
     "output_type": "stream",
     "text": [
      "(+(-73)(*211))"
     ]
    }
   ],
   "source": [
    "racine.PrintPrefixeTree()"
   ]
  },
  {
   "cell_type": "code",
   "execution_count": 45,
   "metadata": {},
   "outputs": [
    {
     "name": "stdout",
     "output_type": "stream",
     "text": [
      "((73-)(211*)+)"
     ]
    }
   ],
   "source": [
    "racine.PrintPostfixeTree()"
   ]
  },
  {
   "cell_type": "code",
   "execution_count": 9,
   "metadata": {},
   "outputs": [
    {
     "name": "stdout",
     "output_type": "stream",
     "text": [
      "73211"
     ]
    }
   ],
   "source": [
    "racine.PrintFeuille()"
   ]
  },
  {
   "cell_type": "markdown",
   "metadata": {},
   "source": [
    "## EX3 : Arbres particuliers"
   ]
  },
  {
   "cell_type": "code",
   "execution_count": 50,
   "metadata": {},
   "outputs": [
    {
     "data": {
      "text/plain": [
       "True"
      ]
     },
     "execution_count": 50,
     "metadata": {},
     "output_type": "execute_result"
    }
   ],
   "source": [
    "racine.estComplet()"
   ]
  },
  {
   "cell_type": "code",
   "execution_count": 53,
   "metadata": {},
   "outputs": [
    {
     "data": {
      "text/plain": [
       "<__main__.Arbre at 0x7f52f40efc10>"
      ]
     },
     "execution_count": 53,
     "metadata": {},
     "output_type": "execute_result"
    }
   ],
   "source": [
    "racine.miroir(racine)"
   ]
  },
  {
   "cell_type": "code",
   "execution_count": null,
   "metadata": {},
   "outputs": [],
   "source": []
  }
 ],
 "metadata": {
  "kernelspec": {
   "display_name": "Python 3",
   "language": "python",
   "name": "python3"
  },
  "language_info": {
   "codemirror_mode": {
    "name": "ipython",
    "version": 3
   },
   "file_extension": ".py",
   "mimetype": "text/x-python",
   "name": "python",
   "nbconvert_exporter": "python",
   "pygments_lexer": "ipython3",
   "version": "3.8.6"
  }
 },
 "nbformat": 4,
 "nbformat_minor": 4
}

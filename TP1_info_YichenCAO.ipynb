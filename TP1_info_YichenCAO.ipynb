{
 "cells": [
  {
   "cell_type": "markdown",
   "metadata": {},
   "source": [
    "# TP1_info_Yichen_CAO"
   ]
  },
  {
   "cell_type": "code",
   "execution_count": 1,
   "metadata": {},
   "outputs": [],
   "source": [
    "import numpy as np\n",
    "import matplotlib.pyplot as plt\n",
    "import random "
   ]
  },
  {
   "cell_type": "markdown",
   "metadata": {},
   "source": [
    "## Question 1.1"
   ]
  },
  {
   "cell_type": "code",
   "execution_count": 2,
   "metadata": {},
   "outputs": [],
   "source": [
    "def moyenne_ecart_type(x):\n",
    "    assert type(x) in {list}, 'doit être de type list'\n",
    "    return ({'moyenne':np.mean(x),'ecart_type':np.std(x,ddof=1, axis=None)})\n"
   ]
  },
  {
   "cell_type": "code",
   "execution_count": 3,
   "metadata": {},
   "outputs": [],
   "source": [
    "def moyenne_ecart_type(x):\n",
    "    assert type(x) in {list}, 'doit être de type list'\n",
    "    somme = 0\n",
    "    m=0\n",
    "    for i in range(len(x)):\n",
    "        somme = somme+x[i]\n",
    "    mean = somme/len(x)\n",
    "    for j in range(len(x)):\n",
    "        m += (x[j]-mean)**2\n",
    "    std = (1/(len(x)-1)*m)**(1/2)\n",
    "    return ({'moyenne':mean,'ecart_type':std})"
   ]
  },
  {
   "cell_type": "code",
   "execution_count": 4,
   "metadata": {},
   "outputs": [],
   "source": [
    "a=[1,2,3]"
   ]
  },
  {
   "cell_type": "code",
   "execution_count": 5,
   "metadata": {},
   "outputs": [
    {
     "data": {
      "text/plain": [
       "{'moyenne': 2.0, 'ecart_type': 1.0}"
      ]
     },
     "execution_count": 5,
     "metadata": {},
     "output_type": "execute_result"
    }
   ],
   "source": [
    "moyenne_ecart_type(a)"
   ]
  },
  {
   "cell_type": "markdown",
   "metadata": {},
   "source": [
    "## Question 1.2"
   ]
  },
  {
   "cell_type": "code",
   "execution_count": 6,
   "metadata": {},
   "outputs": [],
   "source": [
    "def min_max_position(x):\n",
    "    assert type(x) in {list}, 'doit être de type list'\n",
    "    return ({'min':min(x),'min_position':x.index(min(x)),'max':max(x),'max_position':x.index(max(x))})"
   ]
  },
  {
   "cell_type": "code",
   "execution_count": 7,
   "metadata": {},
   "outputs": [],
   "source": [
    "def min_max_position(x):\n",
    "    assert type(x) in {list}, 'doit être de type list'\n",
    "    mini = x[0]\n",
    "    indice_mini = 0\n",
    "    indice_max = 0\n",
    "    maxi = x[0]\n",
    "    for i in range(len(x)):\n",
    "        if x[i]<mini:\n",
    "            mini = x[i]\n",
    "            indice_mini = i\n",
    "    for j in range(len(x)):\n",
    "        if x[j]>mini:\n",
    "            maxi = x[j]\n",
    "            indice_max = j       \n",
    "    return ({'min':mini,'min_position':indice_mini,'max':maxi,'max_position':indice_max})\n",
    "            \n",
    "    "
   ]
  },
  {
   "cell_type": "code",
   "execution_count": 8,
   "metadata": {},
   "outputs": [
    {
     "data": {
      "text/plain": [
       "{'min': 1, 'min_position': 0, 'max': 3, 'max_position': 2}"
      ]
     },
     "execution_count": 8,
     "metadata": {},
     "output_type": "execute_result"
    }
   ],
   "source": [
    "min_max_position(a)"
   ]
  },
  {
   "cell_type": "markdown",
   "metadata": {},
   "source": [
    "## Quand qch apparait plusieurs fois"
   ]
  },
  {
   "cell_type": "code",
   "execution_count": 9,
   "metadata": {},
   "outputs": [],
   "source": [
    "def min_max_position_adv(x):\n",
    "    assert type(x) in {list}, 'doit être de type list'\n",
    "    y=np.array(x)\n",
    "    min_position=np.where(y==min(x))\n",
    "    max_position=np.where(y==max(x))\n",
    "    nombre_min=len(min_position[0])\n",
    "    nombre_max=len(max_position[0])\n",
    "    return ({'min':min(x),'min_position':min_position[0],'nombre_min':nombre_min,'max':max(x),'max_position':max_position[0],'nombre_max':nombre_max})"
   ]
  },
  {
   "cell_type": "code",
   "execution_count": 10,
   "metadata": {},
   "outputs": [],
   "source": [
    "b=[1,1,2,2,3,3]"
   ]
  },
  {
   "cell_type": "code",
   "execution_count": 11,
   "metadata": {},
   "outputs": [
    {
     "data": {
      "text/plain": [
       "{'min': 1,\n",
       " 'min_position': array([0, 1]),\n",
       " 'nombre_min': 2,\n",
       " 'max': 3,\n",
       " 'max_position': array([4, 5]),\n",
       " 'nombre_max': 2}"
      ]
     },
     "execution_count": 11,
     "metadata": {},
     "output_type": "execute_result"
    }
   ],
   "source": [
    "min_max_position_adv(b)"
   ]
  },
  {
   "cell_type": "markdown",
   "metadata": {},
   "source": [
    "## Question 1.3"
   ]
  },
  {
   "cell_type": "code",
   "execution_count": 12,
   "metadata": {},
   "outputs": [],
   "source": [
    "def fibonacci(x):\n",
    "    assert type(x) in {int}, 'doit être de type int'\n",
    "    assert x>=0, 'doit être positive'\n",
    "    if x==0 or x==1:\n",
    "        return x\n",
    "    return fibonacci(x-1)+fibonacci(x-2)\n",
    "# récursion    \n",
    "        "
   ]
  },
  {
   "cell_type": "code",
   "execution_count": 13,
   "metadata": {},
   "outputs": [
    {
     "data": {
      "text/plain": [
       "34"
      ]
     },
     "execution_count": 13,
     "metadata": {},
     "output_type": "execute_result"
    }
   ],
   "source": [
    "fibonacci(9)"
   ]
  },
  {
   "cell_type": "markdown",
   "metadata": {},
   "source": [
    "## Question 1.4"
   ]
  },
  {
   "cell_type": "code",
   "execution_count": 14,
   "metadata": {},
   "outputs": [],
   "source": [
    "def transposee(x):\n",
    "    assert type(x) in {list}, 'doit être de type list'\n",
    "    x=np.array(x)#transposer vers array\n",
    "    y=x.T#pour transposee\n",
    "    y=y.tolist()#retourner vers list\n",
    "    return y\n",
    "        "
   ]
  },
  {
   "cell_type": "code",
   "execution_count": 15,
   "metadata": {},
   "outputs": [],
   "source": [
    "def transposee(x):\n",
    "    assert type(x) in {list}, 'doit être de type list'\n",
    "    m=x[0]\n",
    "    n=x[1]\n",
    "    y=list()\n",
    "    for i in range(len(m)):\n",
    "        y.append([m[i],n[i]])\n",
    "    return y"
   ]
  },
  {
   "cell_type": "code",
   "execution_count": 16,
   "metadata": {},
   "outputs": [
    {
     "data": {
      "text/plain": [
       "int"
      ]
     },
     "execution_count": 16,
     "metadata": {},
     "output_type": "execute_result"
    }
   ],
   "source": [
    "x=[[1,2,3],[4,5,6]]\n",
    "type(x[0][0])"
   ]
  },
  {
   "cell_type": "code",
   "execution_count": 17,
   "metadata": {},
   "outputs": [
    {
     "data": {
      "text/plain": [
       "[[1, 4], [2, 5], [3, 6]]"
      ]
     },
     "execution_count": 17,
     "metadata": {},
     "output_type": "execute_result"
    }
   ],
   "source": [
    "transposee(x)"
   ]
  },
  {
   "cell_type": "code",
   "execution_count": null,
   "metadata": {},
   "outputs": [],
   "source": []
  },
  {
   "cell_type": "markdown",
   "metadata": {},
   "source": [
    "## Question 2.1"
   ]
  },
  {
   "cell_type": "code",
   "execution_count": 18,
   "metadata": {},
   "outputs": [],
   "source": [
    "import numpy.random as rd\n",
    "def listealeatoire(n):\n",
    "    assert type(n) in {int}, 'doit être de type int'\n",
    "    x=rd.randint(1,n**2+1,n)\n",
    "    x=x.tolist()\n",
    "    return x"
   ]
  },
  {
   "cell_type": "code",
   "execution_count": 19,
   "metadata": {},
   "outputs": [],
   "source": [
    "##2.1.1"
   ]
  },
  {
   "cell_type": "code",
   "execution_count": 20,
   "metadata": {},
   "outputs": [],
   "source": [
    "def listealeatoire(n):\n",
    "    assert type(n) in {int}, 'doit être de type int'\n",
    "    x=list()\n",
    "    for i in range(n):\n",
    "        x.append(random.randint(1,n**2))\n",
    "    return x"
   ]
  },
  {
   "cell_type": "code",
   "execution_count": 21,
   "metadata": {},
   "outputs": [
    {
     "data": {
      "text/plain": [
       "[4, 1]"
      ]
     },
     "execution_count": 21,
     "metadata": {},
     "output_type": "execute_result"
    }
   ],
   "source": [
    "listealeatoire(2)"
   ]
  },
  {
   "cell_type": "code",
   "execution_count": 22,
   "metadata": {},
   "outputs": [
    {
     "data": {
      "text/plain": [
       "[2, 3]"
      ]
     },
     "execution_count": 22,
     "metadata": {},
     "output_type": "execute_result"
    }
   ],
   "source": [
    "listealeatoire(2)"
   ]
  },
  {
   "cell_type": "code",
   "execution_count": 23,
   "metadata": {},
   "outputs": [],
   "source": [
    "def testdouble_where(x):\n",
    "    assert type(x) in {list}, 'doit être de type list'\n",
    "    \n",
    "    for i in range(len(x)):\n",
    "        if x.count(x[i])>1:\n",
    "            print({'doublon':x[i],'position':i})\n",
    "def testdouble(x):\n",
    "    assert type(x) in {list}, 'doit être de type list'\n",
    "    \n",
    "    for i in range(len(x)):\n",
    "        if x.count(x[i])>1:\n",
    "            return True            \n",
    "    else:\n",
    "            return False"
   ]
  },
  {
   "cell_type": "code",
   "execution_count": 24,
   "metadata": {},
   "outputs": [],
   "source": [
    "##2.1.2"
   ]
  },
  {
   "cell_type": "code",
   "execution_count": 25,
   "metadata": {},
   "outputs": [],
   "source": [
    "def testdouble(x):\n",
    "    assert type(x) in {list}, 'doit être de type list'\n",
    "    for i in range(0, len(x)):\n",
    "        for j in range(i+1, len(x)):\n",
    "            if x[j] == x[i]:\n",
    "                return True\n",
    "    return False"
   ]
  },
  {
   "cell_type": "code",
   "execution_count": 26,
   "metadata": {},
   "outputs": [
    {
     "data": {
      "text/plain": [
       "False"
      ]
     },
     "execution_count": 26,
     "metadata": {},
     "output_type": "execute_result"
    }
   ],
   "source": [
    "x = [3,1,4,1,5,9,2,6,5]\n",
    "y = [1,2,3,4,5,6,7,8,9]\n",
    "testdouble(x)\n",
    "testdouble(y)"
   ]
  },
  {
   "cell_type": "code",
   "execution_count": 27,
   "metadata": {},
   "outputs": [
    {
     "name": "stdout",
     "output_type": "stream",
     "text": [
      "{'doublon': 1, 'position': 1}\n",
      "{'doublon': 1, 'position': 3}\n",
      "{'doublon': 5, 'position': 4}\n",
      "{'doublon': 5, 'position': 8}\n"
     ]
    }
   ],
   "source": [
    "testdouble_where(x)"
   ]
  },
  {
   "cell_type": "code",
   "execution_count": 28,
   "metadata": {},
   "outputs": [],
   "source": [
    "def teste_alearoire_doublon(n):\n",
    "    assert type(n) in {int}, 'doit être de type int'\n",
    "    x = listealeatoire(n)\n",
    "    y = testdouble(x)\n",
    "    if y==True:\n",
    "        return testdouble_where(x)\n",
    "    else :\n",
    "        return ('sansdoublon')"
   ]
  },
  {
   "cell_type": "code",
   "execution_count": 29,
   "metadata": {},
   "outputs": [
    {
     "data": {
      "text/plain": [
       "'sansdoublon'"
      ]
     },
     "execution_count": 29,
     "metadata": {},
     "output_type": "execute_result"
    }
   ],
   "source": [
    "teste_alearoire_doublon(1)"
   ]
  },
  {
   "cell_type": "code",
   "execution_count": 30,
   "metadata": {},
   "outputs": [],
   "source": [
    "##2.1.3"
   ]
  },
  {
   "cell_type": "code",
   "execution_count": 31,
   "metadata": {},
   "outputs": [],
   "source": [
    "def teste_alearoire_doublon_1():#graphique en ligne\n",
    "    t = 0\n",
    "    n = list()\n",
    "    for i in range(100,1000):\n",
    "        for j in range(5):\n",
    "            x = listealeatoire(i)\n",
    "            y = testdouble(x)\n",
    "    \n",
    "            if y==True:\n",
    "                t+=1\n",
    "        n.append(t)\n",
    "        t = 0\n",
    "    return n"
   ]
  },
  {
   "cell_type": "code",
   "execution_count": 32,
   "metadata": {},
   "outputs": [],
   "source": [
    "def teste_alearoire_doublon_2():#histogramme\n",
    "    t = 0\n",
    "    n = list()\n",
    "    for i in range(2,100):\n",
    "        for j in range(20):\n",
    "            x = listealeatoire(i)\n",
    "            y = testdouble(x)\n",
    "    \n",
    "            if y==True:\n",
    "                n.append(i)\n",
    "\n",
    "    return n"
   ]
  },
  {
   "cell_type": "code",
   "execution_count": 33,
   "metadata": {},
   "outputs": [],
   "source": [
    "#teste_alearoire_doublon_1()\n"
   ]
  },
  {
   "cell_type": "code",
   "execution_count": 34,
   "metadata": {},
   "outputs": [
    {
     "data": {
      "image/png": "[encoded data removed]",
      "text/plain": [
       "<Figure size 1152x648 with 1 Axes>"
      ]
     },
     "metadata": {
      "needs_background": "light"
     },
     "output_type": "display_data"
    }
   ],
   "source": [
    "x=np.arange(100,1000,1)\n",
    "plt.figure(figsize = (16,9))\n",
    "plt.plot(x, teste_alearoire_doublon_1(),'ro', linestyle='--')\n",
    "plt.hist(teste_alearoire_doublon_2(),bins=100)\n",
    "plt.show()"
   ]
  },
  {
   "cell_type": "code",
   "execution_count": 35,
   "metadata": {},
   "outputs": [
    {
     "ename": "SyntaxError",
     "evalue": "invalid syntax (<ipython-input-35-9aec695197c9>, line 1)",
     "output_type": "error",
     "traceback": [
      "\u001b[0;36m  File \u001b[0;32m\"<ipython-input-35-9aec695197c9>\"\u001b[0;36m, line \u001b[0;32m1\u001b[0m\n\u001b[0;31m    - je ne compends pas\u001b[0m\n\u001b[0m         ^\u001b[0m\n\u001b[0;31mSyntaxError\u001b[0m\u001b[0;31m:\u001b[0m invalid syntax\n"
     ]
    }
   ],
   "source": [
    "- je ne compends pas"
   ]
  },
  {
   "cell_type": "markdown",
   "metadata": {},
   "source": [
    "## Question 2.2"
   ]
  },
  {
   "cell_type": "code",
   "execution_count": null,
   "metadata": {},
   "outputs": [],
   "source": [
    "def hasard_abc():\n",
    "    import numpy.random as rd\n",
    "    x=rd.uniform(-1,1,3)\n",
    "    x=x.tolist()\n",
    "    return x"
   ]
  },
  {
   "cell_type": "code",
   "execution_count": null,
   "metadata": {},
   "outputs": [],
   "source": [
    "def hasard_abc():\n",
    "    x=list()\n",
    "    for i in range(3):\n",
    "        x.append((random.random()-0.5)*2)\n",
    "    return x"
   ]
  },
  {
   "cell_type": "code",
   "execution_count": null,
   "metadata": {},
   "outputs": [],
   "source": [
    "(random.random()-0.5)*2"
   ]
  },
  {
   "cell_type": "code",
   "execution_count": null,
   "metadata": {},
   "outputs": [],
   "source": [
    "hasard_abc()\n",
    "\n"
   ]
  },
  {
   "cell_type": "code",
   "execution_count": null,
   "metadata": {},
   "outputs": [],
   "source": [
    "def nombre_racine(x):\n",
    "    assert type(x) in {list}, 'doit être de type list'\n",
    "    assert len(x) in {3}, 'doit être de len 3'\n",
    "   \n",
    "    if x[1]**2-4*x[0]*x[2]>0:\n",
    "        return [1,0,0]\n",
    "    elif x[1]**2-4*x[0]*x[2]==0:\n",
    "        return [0,1,0]\n",
    "    else:\n",
    "        return [0,0,1]"
   ]
  },
  {
   "cell_type": "code",
   "execution_count": null,
   "metadata": {},
   "outputs": [],
   "source": []
  },
  {
   "cell_type": "code",
   "execution_count": null,
   "metadata": {},
   "outputs": [],
   "source": [
    "nombre_racine(hasard_abc())"
   ]
  },
  {
   "cell_type": "code",
   "execution_count": null,
   "metadata": {},
   "outputs": [],
   "source": [
    "x=list()\n",
    "y=nombre_racine(hasard_abc())\n",
    "x.append(y)\n",
    "print(x)"
   ]
  },
  {
   "cell_type": "code",
   "execution_count": null,
   "metadata": {},
   "outputs": [],
   "source": [
    "def main(n):\n",
    "    #assert type(n) in {int}, 'doit être de type int'\n",
    "    i=1\n",
    "    x=list()\n",
    "    while i<=n:\n",
    "        x.append(nombre_racine(hasard_abc()))\n",
    "        i+=1\n",
    "    a = 0\n",
    "    b=0\n",
    "    c=0\n",
    "    for i in range(len(x)):\n",
    "        a = a+x[i][0]\n",
    "        b = b+x[i][1]\n",
    "        c = c+x[i][2]    \n",
    "    return ({'2 racines':a/n,'1 racine':b/n,'zéro racines':c/n})"
   ]
  },
  {
   "cell_type": "code",
   "execution_count": null,
   "metadata": {},
   "outputs": [],
   "source": [
    "main(50000)"
   ]
  },
  {
   "cell_type": "code",
   "execution_count": null,
   "metadata": {},
   "outputs": [],
   "source": [
    "n=np.arange(0,2000,1)\n",
    "def y(n):\n",
    "    y=np.ones(len(n))\n",
    "    for i in range(len(n)):\n",
    "        y[i]=main(n[i])['2 racines']\n",
    "    return y\n",
    "plt.figure(figsize = (16,9))\n",
    "plt.plot(n, y(n),'ro', linestyle='--')\n",
    "plt.title(r' la probabilité du premier cas avec n')\n",
    "plt.show()"
   ]
  },
  {
   "cell_type": "markdown",
   "metadata": {},
   "source": [
    "## Question 3.1"
   ]
  },
  {
   "cell_type": "code",
   "execution_count": null,
   "metadata": {},
   "outputs": [],
   "source": [
    "def tri_croissant(arr):\n",
    "    #assert type(arr) in {numpy.ndarray}, 'doit être de type array'\n",
    "    for i in range(1, len(arr)):\n",
    "        for j in range(0, len(arr)-i):\n",
    "            if arr[j] > arr[j+1]:\n",
    "                arr[j], arr[j + 1] = arr[j + 1], arr[j]\n",
    "    return arr"
   ]
  },
  {
   "cell_type": "code",
   "execution_count": null,
   "metadata": {},
   "outputs": [],
   "source": [
    "#x=np.array(x) list marche aussi\n",
    "tri_croissant(x)"
   ]
  },
  {
   "cell_type": "markdown",
   "metadata": {},
   "source": [
    "## Question 3.1"
   ]
  },
  {
   "cell_type": "code",
   "execution_count": null,
   "metadata": {},
   "outputs": [],
   "source": [
    "def nombre_de_zero(x):\n",
    "    i = 0\n",
    "    j = 0\n",
    "    k = 0\n",
    "    while i<=len(x)-1:\n",
    "        if x[i]==0:\n",
    "            j+=1\n",
    "            i+=1\n",
    "            \n",
    "        elif j>k:\n",
    "            k=j\n",
    "            j=0\n",
    "            i+=1\n",
    "        else:\n",
    "            j=0\n",
    "            i+=1\n",
    "    if j>k:\n",
    "        return j\n",
    "    return k"
   ]
  },
  {
   "cell_type": "code",
   "execution_count": null,
   "metadata": {},
   "outputs": [],
   "source": [
    "x = [0,1,0,0,0,1,0,0,1,0,0,0,0]"
   ]
  },
  {
   "cell_type": "code",
   "execution_count": null,
   "metadata": {},
   "outputs": [],
   "source": []
  },
  {
   "cell_type": "code",
   "execution_count": null,
   "metadata": {},
   "outputs": [],
   "source": [
    "nombre_de_zero(x)"
   ]
  },
  {
   "cell_type": "code",
   "execution_count": null,
   "metadata": {},
   "outputs": [],
   "source": [
    "type(x)"
   ]
  },
  {
   "cell_type": "code",
   "execution_count": null,
   "metadata": {},
   "outputs": [],
   "source": []
  },
  {
   "cell_type": "code",
   "execution_count": null,
   "metadata": {},
   "outputs": [],
   "source": []
  }
 ],
 "metadata": {
  "kernelspec": {
   "display_name": "Python 3",
   "language": "python",
   "name": "python3"
  },
  "language_info": {
   "codemirror_mode": {
    "name": "ipython",
    "version": 3
   },
   "file_extension": ".py",
   "mimetype": "text/x-python",
   "name": "python",
   "nbconvert_exporter": "python",
   "pygments_lexer": "ipython3",
   "version": "3.8.6"
  }
 },
 "nbformat": 4,
 "nbformat_minor": 4
}
